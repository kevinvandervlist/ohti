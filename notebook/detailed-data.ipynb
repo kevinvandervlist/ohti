{
 "cells": [
  {
   "cell_type": "code",
   "execution_count": null,
   "metadata": {},
   "outputs": [],
   "source": [
    "import numpy as np\n",
    "import pandas as pd\n",
    "import matplotlib.pyplot as plt\n",
    "import matplotlib.dates as mdates\n",
    "import seaborn as sns\n",
    "import json"
   ]
  },
  {
   "cell_type": "code",
   "execution_count": null,
   "metadata": {},
   "outputs": [],
   "source": [
    "raw_data = pd.read_csv('detailed-data.csv')\n",
    "# To see all the (unique) devices + data streams:\n",
    "# raw_data.drop(columns=['from', 'to', 'value']).drop_duplicates()\n",
    "# device_identifiers = {\n",
    "#     \"Huis\": {\n",
    "#         \"Ventilatie_snelheid\": (\"uuid_a\", \"FanSpeedPercentage\", \"FanSpeed\"),\n",
    "#         \"Ventilatie_ppm_co2\": (\"uuid_b\", \"PartsPerMillion\", \"CO2\"),\n",
    "#         \"Gas_gebruik\": (\"uuid_c\", \"CentralMeterGasUsage\", \"m3\"),\n",
    "#         \"Electriciteit_gebruik_hoog\": (\"uuid_d\", \"ElectricityUsage\", \"Wh\"),\n",
    "#         \"Electriciteit_gebruik_laag\": (\"uuid_e\", \"ElectricityUsage\", \"Wh\"),\n",
    "#         \"Electriciteit_teruglevering_hoog\": (\"uuid_f\", \"ElectricityProduction\", \"Wh\"),\n",
    "#         \"Electriciteit_teruglevering_laag\": (\"uuid_g\", \"ElectricityProduction\", \"Wh\"),\n",
    "#     },\n",
    "#     \"Bar\": {\n",
    "#         \"Temperatuur_gemeten\": (\"uuid_a\", \"ActualTemperatureCelcius\", \"c\"),\n",
    "#         \"Temperatuur_ingesteld\": (\"uuid_b\", \"ConfiguredTemperatureCelcius\", \"c\"),\n",
    "#     },\n",
    "# }\n",
    "# kamers = ['Foo', 'Bar']\n",
    "\n",
    "# _kamers = open(\"kamers\", \"w\")\n",
    "# _kamers.write(json.dumps(kamers))\n",
    "# _kamers.close()\n",
    "\n",
    "# _device_identifiers = open(\"device_identifiers\", \"w\")\n",
    "# _device_identifiers.write(json.dumps(device_identifiers))\n",
    "# _device_identifiers.close()"
   ]
  },
  {
   "cell_type": "code",
   "execution_count": null,
   "metadata": {},
   "outputs": [],
   "source": [
    "_kamers = open(\"kamers.json\", \"r\")\n",
    "kamers = json.loads(_kamers.read())\n",
    "_kamers.close()\n",
    "\n",
    "_device_identifiers = open(\"device_identifiers.json\", \"r\")\n",
    "device_identifiers = json.loads(_device_identifiers.read())\n",
    "_device_identifiers.close()"
   ]
  },
  {
   "cell_type": "code",
   "execution_count": null,
   "metadata": {},
   "outputs": [],
   "source": [
    "raw_data['_from'] = raw_data['from'].apply(lambda ts: pd.datetime.fromtimestamp(ts / 1000))\n",
    "raw_data['_to'] = raw_data['to'].apply(lambda ts: pd.datetime.fromtimestamp(ts / 1000))"
   ]
  },
  {
   "cell_type": "code",
   "execution_count": null,
   "metadata": {},
   "outputs": [],
   "source": [
    "devices = device_identifiers\n",
    "\n",
    "for section, measurements in devices.items():\n",
    "    for name, (uuid, c, u) in measurements.items():\n",
    "        df = raw_data\n",
    "        df = df[df['uuid'] == uuid]\n",
    "        df = df[df['category'] == c]\n",
    "        df = df[df['unit'] == u]\n",
    "        df = df.set_index('_from').asfreq('15T')\n",
    "        df = df.drop(columns=['from', 'to', 'uuid'])\n",
    "        devices[section][name] = df"
   ]
  },
  {
   "cell_type": "code",
   "execution_count": null,
   "metadata": {},
   "outputs": [],
   "source": [
    "sns.set(rc={'figure.figsize':(18, 6)})\n",
    "\n",
    "fig, ax = plt.subplots()\n",
    "for kamer in kamers:\n",
    "    t = devices[kamer]['Temperatuur_gemeten']['value']\n",
    "    ax.plot(t.index, t, marker='x', linestyle='-', linewidth=0.5, label=kamer)\n",
    "\n",
    "t = devices['Woonkamer']['Temperatuur_ingesteld']['value']\n",
    "ax.plot(t.index, t, marker='x', linestyle='-', linewidth=0.5, label='Ingesteld')\n",
    "\n",
    "major = mdates.DayLocator(interval = 1)\n",
    "ax.xaxis.set_major_locator(major)\n",
    "ax.set_ylabel('Celcius')\n",
    "ax.legend()"
   ]
  },
  {
   "cell_type": "code",
   "execution_count": null,
   "metadata": {},
   "outputs": [],
   "source": [
    "kamers = ['Woonkamer', 'Badkamer', 'Slaapkamer_groot', 'Kantoor', 'Slaapkamer_dochter']\n",
    "for kamer in kamers:\n",
    "    fig, ax = plt.subplots()\n",
    "    g = devices[kamer]['Temperatuur_gemeten']['value']\n",
    "    i = devices[kamer]['Temperatuur_ingesteld']['value']\n",
    "    ax.plot(g.index, g, marker='x', linestyle='-', linewidth=0.5, label='Gemeten')\n",
    "    ax.plot(i.index, i, marker='x', linestyle='-', linewidth=0.5, label='Ingesteld')\n",
    "    ax.set_ylabel(kamer + ' in celcius')\n",
    "    ax.legend()\n"
   ]
  },
  {
   "cell_type": "code",
   "execution_count": null,
   "metadata": {},
   "outputs": [],
   "source": [
    "fig, ax_fan = plt.subplots()\n",
    "fan = devices['Huis']['Ventilatie_snelheid']['value']\n",
    "co2 = devices['Huis']['Ventilatie_ppm_co2']['value']\n",
    "ax_fan.plot(fan.index, fan, marker='x', linestyle='-', linewidth=0.5, label='Ventilatie snelheid')\n",
    "ax_fan.set_ylabel('Ventilatie %')\n",
    "\n",
    "ax_co2 = ax_fan.twinx()\n",
    "ax_co2.plot(co2.index, co2, marker='o', linestyle='-', linewidth=0.5, label='PPM CO2')\n",
    "ax_co2.set_ylabel('PPM CO2')\n",
    "fig.legend()"
   ]
  },
  {
   "cell_type": "code",
   "execution_count": null,
   "metadata": {},
   "outputs": [],
   "source": [
    "fig, ax_gas = plt.subplots()\n",
    "\n",
    "gas = devices['Huis']['Gas_gebruik']['value']\n",
    "ehoog_consumptie = devices['Huis']['Electriciteit_gebruik_hoog']['value']\n",
    "elaag_consumptie = devices['Huis']['Electriciteit_gebruik_laag']['value']\n",
    "ehoog_terug = devices['Huis']['Electriciteit_teruglevering_hoog']['value']\n",
    "elaag_terug = devices['Huis']['Electriciteit_teruglevering_laag']['value']\n",
    "ehuis = devices['Huis']['Electriciteit_opwek_dak']['value']\n",
    "egarage = devices['Huis']['Electriciteit_opwek_garage']['value']\n",
    "\n",
    "ax_gas.plot(gas.index, gas, marker='x', linestyle='-', linewidth=0.5, label='Gas')\n",
    "ax_gas.set_ylabel('Gas m3')\n",
    "\n",
    "ax_ehc = ax_gas.twinx()\n",
    "ax_ehc.plot(ehoog_consumptie.index, ehoog_consumptie, marker='o', linestyle='-', linewidth=0.5, label='Consumptie hoog tarief Wh')\n",
    "ax_ehc.set_ylabel('Consumptie hoog tarief Wh')\n",
    "\n",
    "# ax_elc = ax_ehc.twinx()\n",
    "# ax_elc.plot(elaag_consumptie.index, elaag_consumptie, marker='o', linestyle='-', linewidth=0.5, label='Consumptie laag tarief Wh')\n",
    "# ax_elc.set_ylabel('Consumptie laag tarief Wh')\n",
    "\n",
    "\n",
    "fig.legend()"
   ]
  },
  {
   "cell_type": "code",
   "execution_count": null,
   "metadata": {},
   "outputs": [],
   "source": []
  }
 ],
 "metadata": {
  "kernelspec": {
   "display_name": "Python 3",
   "language": "python",
   "name": "python3"
  },
  "language_info": {
   "codemirror_mode": {
    "name": "ipython",
    "version": 3
   },
   "file_extension": ".py",
   "mimetype": "text/x-python",
   "name": "python",
   "nbconvert_exporter": "python",
   "pygments_lexer": "ipython3",
   "version": "3.7.4"
  }
 },
 "nbformat": 4,
 "nbformat_minor": 2
}
