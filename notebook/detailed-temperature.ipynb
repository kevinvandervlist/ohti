{
 "cells": [
  {
   "cell_type": "code",
   "execution_count": null,
   "metadata": {},
   "outputs": [],
   "source": [
    "import numpy as np\n",
    "import pandas as pd\n",
    "import matplotlib.pyplot as plt\n",
    "import matplotlib.dates as mdates\n",
    "import seaborn as sns\n",
    "import json\n",
    "import pickle\n",
    "from datetime import date, timedelta"
   ]
  },
  {
   "cell_type": "code",
   "execution_count": null,
   "metadata": {},
   "outputs": [],
   "source": [
    "_kamers = open(\"kamers.json\", \"r\")\n",
    "kamers = json.loads(_kamers.read())\n",
    "_kamers.close()\n",
    "\n",
    "_devices = open(\"devices.p\", \"rb\")\n",
    "devices = pickle.load(_devices)\n",
    "_devices.close()\n",
    "\n",
    "# Todo: derive from the dataset\n",
    "years = ['2018', '2019', '2020']"
   ]
  },
  {
   "cell_type": "code",
   "execution_count": null,
   "metadata": {},
   "outputs": [],
   "source": [
    "beneden = devices[kamers[0]]['Temperatuur_gemeten'].filter(items=['value'])\n",
    "beneden.rename(columns={beneden.columns[0]: 'beneden' }, inplace = True)\n",
    "\n",
    "boven_1 = devices[kamers[1]]['Temperatuur_gemeten'].filter(items=['value'])\n",
    "boven_1.rename(columns={boven_1.columns[0]: 'boven_1' }, inplace = True)\n",
    "\n",
    "boven_2 = devices[kamers[2]]['Temperatuur_gemeten'].filter(items=['value'])\n",
    "boven_2.rename(columns={boven_2.columns[0]: 'boven_2' }, inplace = True)\n",
    "\n",
    "boven_3 = devices[kamers[3]]['Temperatuur_gemeten'].filter(items=['value'])\n",
    "boven_3.rename(columns={boven_3.columns[0]: 'boven_3' }, inplace = True)\n",
    "\n",
    "boven_4 = devices[kamers[4]]['Temperatuur_gemeten'].filter(items=['value'])\n",
    "boven_4.rename(columns={boven_4.columns[0]: 'boven_4' }, inplace = True)\n",
    "\n",
    "temperatuur = beneden.join([boven_1, boven_2, boven_3, boven_4])\n",
    "\n",
    "temperatuur['mean'] = temperatuur.apply(lambda row: (row['beneden'] * 4 + row['boven_1'] + row['boven_2'] + row['boven_3'] + row['boven_4']) / 8, axis=1)\n",
    "temperatuur['min'] = temperatuur.min(axis = 1)\n",
    "temperatuur['max'] = temperatuur.max(axis = 1)\n",
    "\n",
    "sns.set(rc={'figure.figsize':(18, 6)})"
   ]
  },
  {
   "cell_type": "code",
   "execution_count": null,
   "metadata": {},
   "outputs": [],
   "source": [
    "def compare_years(source, years, x_axis = lambda d: d.index.dayofyear):\n",
    "    fig, ax = plt.subplots()\n",
    "    for year in years:\n",
    "        x = source.loc[year, 'mean']\n",
    "        x = x.resample('D').mean()\n",
    "        ax.plot(x_axis(x), x, marker='x', linestyle='-', linewidth=0.5, label=str(year))\n",
    "    ax.set_ylabel('Gemiddelde temperatuur in graden celcius')\n",
    "    ax.set_xlabel('Gemiddelde per dag')\n",
    "    ax.legend()"
   ]
  },
  {
   "cell_type": "code",
   "execution_count": null,
   "metadata": {},
   "outputs": [],
   "source": [
    "compare_years(temperatuur, years)"
   ]
  },
  {
   "cell_type": "code",
   "execution_count": null,
   "metadata": {},
   "outputs": [],
   "source": [
    "df = temperatuur.filter(items=['mean', 'min', 'max'])\n",
    "df = df.resample('3H').mean()\n",
    "for y in years:\n",
    "    ax = df[str(y)].plot.line(y=['max', 'min', 'mean'])\n",
    "    ax.set_xlabel('Jaar ' + str(y))\n",
    "    ax.set_ylabel('Temperatuur in celcius')"
   ]
  }
 ],
 "metadata": {
  "kernelspec": {
   "display_name": "Python 3",
   "language": "python",
   "name": "python3"
  },
  "language_info": {
   "codemirror_mode": {
    "name": "ipython",
    "version": 3
   },
   "file_extension": ".py",
   "mimetype": "text/x-python",
   "name": "python",
   "nbconvert_exporter": "python",
   "pygments_lexer": "ipython3",
   "version": "3.7.4"
  }
 },
 "nbformat": 4,
 "nbformat_minor": 2
}
