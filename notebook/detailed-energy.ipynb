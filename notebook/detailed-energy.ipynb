{
 "cells": [
  {
   "cell_type": "code",
   "execution_count": null,
   "metadata": {},
   "outputs": [],
   "source": [
    "import numpy as np\n",
    "import pandas as pd\n",
    "import matplotlib.pyplot as plt\n",
    "import matplotlib.dates as mdates\n",
    "import seaborn as sns\n",
    "import json\n",
    "import pickle\n",
    "from datetime import date, timedelta"
   ]
  },
  {
   "cell_type": "code",
   "execution_count": null,
   "metadata": {},
   "outputs": [],
   "source": [
    "_kamers = open(\"kamers.json\", \"r\")\n",
    "kamers = json.loads(_kamers.read())\n",
    "_kamers.close()\n",
    "\n",
    "_devices = open(\"devices.p\", \"rb\")\n",
    "devices = pickle.load(_devices)\n",
    "_devices.close()"
   ]
  },
  {
   "cell_type": "code",
   "execution_count": null,
   "metadata": {},
   "outputs": [],
   "source": [
    "one = devices['Huis']['Electriciteit_opwek_dak']\n",
    "# The monitoring device I'm using _always_ reads either 0.1 or 0.2 Wh / 15 minutes\n",
    "# , so only retain values above that amount\n",
    "one = one[one.apply(lambda x: x['value'] > 0.2, axis=1)]\n",
    "\n",
    "two = devices['Huis']['Electriciteit_opwek_garage']\n",
    "\n",
    "cm_low_in = devices['Huis']['Electriciteit_gebruik_laag']\n",
    "cm_high_in = devices['Huis']['Electriciteit_gebruik_hoog']\n",
    "\n",
    "cm_low_out = devices['Huis']['Electriciteit_teruglevering_laag']\n",
    "cm_high_out = devices['Huis']['Electriciteit_teruglevering_hoog']\n",
    "\n",
    "\n",
    "def merge(a, b):\n",
    "    c = pd.merge(a, b, left_index=True, right_index=True).sum(axis=1).to_frame()\n",
    "    return c.rename(columns={c.columns[0]: 'value' })\n",
    "\n",
    "prod = merge(one, two)\n",
    "usage = merge(cm_low_in, cm_high_in)\n",
    "feedback = merge(cm_low_out, cm_high_out)\n",
    "\n",
    "years = [ str(y) for y in list(one.index.year.unique()) ]\n",
    "\n",
    "sns.set(rc={'figure.figsize':(18, 6)})"
   ]
  },
  {
   "cell_type": "code",
   "execution_count": null,
   "metadata": {},
   "outputs": [],
   "source": [
    "gas = devices['Huis']['Gas_gebruik']"
   ]
  },
  {
   "cell_type": "code",
   "execution_count": null,
   "metadata": {},
   "outputs": [],
   "source": [
    "# From https://stackoverflow.com/a/41259922\n",
    "def align_yaxis(ax1, ax2):\n",
    "    \"\"\"Align zeros of the two axes, zooming them out by same ratio\"\"\"\n",
    "    axes = (ax1, ax2)\n",
    "    extrema = [ax.get_ylim() for ax in axes]\n",
    "    tops = [extr[1] / (extr[1] - extr[0]) for extr in extrema]\n",
    "    # Ensure that plots (intervals) are ordered bottom to top:\n",
    "    if tops[0] > tops[1]:\n",
    "        axes, extrema, tops = [list(reversed(l)) for l in (axes, extrema, tops)]\n",
    "\n",
    "    # How much would the plot overflow if we kept current zoom levels?\n",
    "    tot_span = tops[1] + 1 - tops[0]\n",
    "\n",
    "    b_new_t = extrema[0][0] + tot_span * (extrema[0][1] - extrema[0][0])\n",
    "    t_new_b = extrema[1][1] - tot_span * (extrema[1][1] - extrema[1][0])\n",
    "    axes[0].set_ylim(extrema[0][0], b_new_t)\n",
    "    axes[1].set_ylim(t_new_b, extrema[1][1])\n",
    "    return axes\n",
    "\n",
    "# https://stackoverflow.com/a/46901839\n",
    "def align_yaxis_np(axes):\n",
    "    \"\"\"Align zeros of the two axes, zooming them out by same ratio\"\"\"\n",
    "    axes = np.array(axes)\n",
    "    extrema = np.array([ax.get_ylim() for ax in axes])\n",
    "\n",
    "    # reset for divide by zero issues\n",
    "    for i in range(len(extrema)):\n",
    "        if np.isclose(extrema[i, 0], 0.0):\n",
    "            extrema[i, 0] = -1\n",
    "        if np.isclose(extrema[i, 1], 0.0):\n",
    "            extrema[i, 1] = 1\n",
    "\n",
    "    # upper and lower limits\n",
    "    lowers = extrema[:, 0]\n",
    "    uppers = extrema[:, 1]\n",
    "\n",
    "    # if all pos or all neg, don't scale\n",
    "    all_positive = False\n",
    "    all_negative = False\n",
    "    if lowers.min() > 0.0:\n",
    "        all_positive = True\n",
    "\n",
    "    if uppers.max() < 0.0:\n",
    "        all_negative = True\n",
    "\n",
    "    if all_negative or all_positive:\n",
    "        # don't scale\n",
    "        return\n",
    "\n",
    "    # pick \"most centered\" axis\n",
    "    res = abs(uppers+lowers)\n",
    "    min_index = np.argmin(res)\n",
    "\n",
    "    # scale positive or negative part\n",
    "    multiplier1 = abs(uppers[min_index]/lowers[min_index])\n",
    "    multiplier2 = abs(lowers[min_index]/uppers[min_index])\n",
    "\n",
    "    for i in range(len(extrema)):\n",
    "        # scale positive or negative part based on which induces valid\n",
    "        if i != min_index:\n",
    "            lower_change = extrema[i, 1] * -1*multiplier2\n",
    "            upper_change = extrema[i, 0] * -1*multiplier1\n",
    "            if upper_change < extrema[i, 1]:\n",
    "                extrema[i, 0] = lower_change\n",
    "            else:\n",
    "                extrema[i, 1] = upper_change\n",
    "\n",
    "        # bump by 10% for a margin\n",
    "        extrema[i, 0] *= 1.1\n",
    "        extrema[i, 1] *= 1.1\n",
    "\n",
    "    # set axes limits\n",
    "    [axes[i].set_ylim(*extrema[i]) for i in range(len(extrema))]\n",
    "\n",
    "def chart_timespan(begin, end, resample, label):\n",
    "    begin = begin.strftime('%Y-%m-%d')\n",
    "    end = end.strftime('%Y-%m-%d')\n",
    "    \n",
    "    df = usage[begin:end].index.to_frame().drop(['_from'], axis=1)\n",
    "\n",
    "    df['Productie'] = prod[begin:end]['value'].apply(lambda x: x*-1)\n",
    "    df['Consumptie'] = usage[begin:end]['value']\n",
    "    df['Teruglevering'] = feedback[begin:end]['value'].apply(lambda x: x*-1)\n",
    "    df = df.fillna(0)\n",
    "    df['Netto gebruik'] = df.apply(lambda r: r['Consumptie'] - ((r['Productie']) - r['Teruglevering']), axis=1)\n",
    "    \n",
    "    #rt = merge(usage, feedback)[begin:end].cumsum(axis=0).apply(lambda x: x / 1000)\n",
    "    rt = merge(df['Consumptie'], df['Teruglevering'])[begin:end].cumsum(axis=0).apply(lambda x: x / 1000)\n",
    "    cumprod = df['Productie'][begin:end].cumsum(axis=0).apply(lambda x: x / 1000).to_frame()\n",
    "    cum_net_cons = df['Consumptie'][begin:end].cumsum(axis=0).apply(lambda x: x / 1000).to_frame()\n",
    "    \n",
    "    tmp = df['Productie'].copy().apply(lambda x: x*-1)\n",
    "    own_usage = merge(tmp, df['Teruglevering'])\n",
    "    cum_own_usage = own_usage[begin:end].cumsum(axis=0).apply(lambda x: x / 1000)\n",
    "    cumcons = merge(df['Consumptie'], own_usage)[begin:end].cumsum(axis=0).apply(lambda x: x / 1000)\n",
    "    \n",
    "    df = resample(df)\n",
    "    rt = resample(rt)\n",
    "    \n",
    "    details = df.plot.area(stacked = False)\n",
    "    details.set_xlabel('Tijd van ' + begin + ' tot ' + end)\n",
    "    details.set_ylabel(label)\n",
    "    \n",
    "    running_total = rt['value'].plot(ax=details, style='g-', secondary_y=True, label='Running total')\n",
    "    running_total.set_ylabel('Running totals in kWh')\n",
    "    running_total.legend()\n",
    "        \n",
    "    cumulative_production = cumprod['Productie'].plot(ax=details, style='b-', secondary_y=True, label='Σ production')\n",
    "    cumulative_production.legend()\n",
    "    \n",
    "    cumulative_net_consumption = cum_net_cons['Consumptie'].plot(ax=details, style='k-', secondary_y=True, label='Σ net consumption')\n",
    "    cumulative_net_consumption.legend()\n",
    "    \n",
    "    cumulative_own_usage = cum_own_usage['value'].plot(ax=details, style='m-', secondary_y=True, label='Σ own usage')\n",
    "    cumulative_own_usage.legend()\n",
    "\n",
    "    cumulative_consumption = cumcons['value'].plot(ax=details, style='r-', secondary_y=True, label='Σ consumption')\n",
    "    cumulative_consumption.legend(bbox_to_anchor=(0.15, 0.95))\n",
    "\n",
    "    # return align_yaxis(details, running_total)\n",
    "    return align_yaxis_np([details, running_total, cumulative_production, cumulative_net_consumption, cumulative_own_usage, cumulative_consumption])"
   ]
  },
  {
   "cell_type": "code",
   "execution_count": null,
   "metadata": {},
   "outputs": [],
   "source": [
    "today = date.today()\n",
    "yesterday = today - timedelta(days=1)\n",
    "week = today - timedelta(days=7)\n",
    "month = today - timedelta(days=30)\n",
    "quartile = today - timedelta(days=90)\n",
    "start_of_year = date(date.today().year, 1, 1)\n",
    "\n",
    "chart_timespan(yesterday, today, lambda df: df, 'Wh / 15 minuten')\n",
    "chart_timespan(week, today, lambda df: df.resample('H').sum(), 'Wh')\n",
    "chart_timespan(month, today, lambda df: df.resample('24H').sum(), 'Wh')\n",
    "chart_timespan(quartile, today, lambda df: df.resample('24H').sum(), 'Wh')"
   ]
  },
  {
   "cell_type": "code",
   "execution_count": null,
   "metadata": {},
   "outputs": [],
   "source": [
    "for year in years[1:]:\n",
    "    a = date(int(year), 1, 1)\n",
    "    b = date(int(year), 12, 31)\n",
    "    chart_timespan(a, b, lambda df: df.resample('168H').sum().apply(lambda x: x / 1000), 'kWh / week')"
   ]
  },
  {
   "cell_type": "code",
   "execution_count": null,
   "metadata": {},
   "outputs": [],
   "source": [
    "def compare_years(source, years, x_axis = lambda d: d.index.dayofyear):\n",
    "    fig, ax = plt.subplots()\n",
    "    for year in years:\n",
    "        x = source.loc[year, 'value']\n",
    "        x = x.map(lambda x: x / 1000, na_action=None)\n",
    "        ax.plot(x_axis(x), x, marker='x', linestyle='-', linewidth=0.5, label='kWh')\n",
    "    ax.set_ylabel('kWh')\n",
    "    ax.legend()\n",
    "\n",
    "def compare_years_cumsum(source, years, xlabel):\n",
    "    fig, ax = plt.subplots()\n",
    "    source = source.fillna(0)\n",
    "    for year in years:\n",
    "        x = source.loc[year]\n",
    "        x = x.cumsum(axis=0)\n",
    "        x = x.map(lambda x: x / 1000, na_action=None)\n",
    "        lbl = year + ' end: ' + str(round(x.iloc[-1], 2)) + ' kWh'\n",
    "        ax.plot(x.index.dayofyear, x, marker='.', linestyle='-', linewidth=0.5, label=lbl)\n",
    "    ax.set_ylabel('kWh')\n",
    "    ax.set_xlabel(xlabel)\n",
    "    ax.legend()\n",
    "    \n",
    "def compare_years_cumsum_gas(source, years, xlabel):\n",
    "    fig, ax = plt.subplots()\n",
    "    source = source.fillna(0)\n",
    "    for year in years:\n",
    "        x = source.loc[year]\n",
    "        x = x.cumsum(axis=0)\n",
    "        lbl = year + ' end: ' + str(round(x.iloc[-1], 2)) + ' m3'\n",
    "        ax.plot(x.index.dayofyear, x, marker='.', linestyle='-', linewidth=0.5, label=lbl)\n",
    "    ax.set_ylabel('m3')\n",
    "    ax.set_xlabel(xlabel)\n",
    "    ax.legend()"
   ]
  },
  {
   "cell_type": "code",
   "execution_count": null,
   "metadata": {},
   "outputs": [],
   "source": [
    "compare_years_cumsum(one['value'], years, 'Huis')\n",
    "# The first 2 years there was no data anyways\n",
    "compare_years_cumsum(two['value'], years[2:], 'Garage')\n",
    "compare_years_cumsum(prod['value'], years, 'Beide')"
   ]
  },
  {
   "cell_type": "code",
   "execution_count": null,
   "metadata": {},
   "outputs": [],
   "source": [
    "compare_years_cumsum_gas(gas['value'], years, 'Gas')"
   ]
  },
  {
   "cell_type": "code",
   "execution_count": null,
   "metadata": {},
   "outputs": [],
   "source": [
    "def scatter_plot(df, noise):\n",
    "    df['day'] = df.index.dayofyear\n",
    "    df['hour'] = df.index.hour\n",
    "    df = df[df.apply(lambda x: x['value'] > noise, axis=1)]\n",
    "    df.plot.scatter(x='day', y='hour', c='value', cmap='viridis')"
   ]
  },
  {
   "cell_type": "code",
   "execution_count": null,
   "metadata": {},
   "outputs": [],
   "source": [
    "scatter_plot(one, noise=10)"
   ]
  },
  {
   "cell_type": "code",
   "execution_count": null,
   "metadata": {},
   "outputs": [],
   "source": [
    "scatter_plot(two, noise=10)"
   ]
  },
  {
   "cell_type": "code",
   "execution_count": null,
   "metadata": {},
   "outputs": [],
   "source": [
    "scatter_plot(prod, noise=10)"
   ]
  },
  {
   "cell_type": "code",
   "execution_count": null,
   "metadata": {},
   "outputs": [],
   "source": [
    "scatter_plot(gas, noise=0.1)"
   ]
  }
 ],
 "metadata": {
  "kernelspec": {
   "display_name": "Python 3",
   "language": "python",
   "name": "python3"
  },
  "language_info": {
   "codemirror_mode": {
    "name": "ipython",
    "version": 3
   },
   "file_extension": ".py",
   "mimetype": "text/x-python",
   "name": "python",
   "nbconvert_exporter": "python",
   "pygments_lexer": "ipython3",
   "version": "3.7.4"
  }
 },
 "nbformat": 4,
 "nbformat_minor": 2
}
