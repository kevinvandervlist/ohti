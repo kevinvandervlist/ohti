{
 "cells": [
  {
   "cell_type": "code",
   "execution_count": null,
   "metadata": {},
   "outputs": [],
   "source": [
    "import numpy as np\n",
    "import pandas as pd\n",
    "import matplotlib.pyplot as plt\n",
    "import matplotlib.dates as mdates\n",
    "import seaborn as sns\n",
    "import json\n",
    "import pickle\n",
    "from datetime import date, timedelta"
   ]
  },
  {
   "cell_type": "code",
   "execution_count": null,
   "metadata": {},
   "outputs": [],
   "source": [
    "_kamers = open(\"kamers.json\", \"r\")\n",
    "kamers = json.loads(_kamers.read())\n",
    "_kamers.close()\n",
    "\n",
    "_devices = open(\"devices.p\", \"rb\")\n",
    "devices = pickle.load(_devices)\n",
    "_devices.close()"
   ]
  },
  {
   "cell_type": "code",
   "execution_count": null,
   "metadata": {},
   "outputs": [],
   "source": [
    "one = devices['Huis']['Electriciteit_opwek_dak']\n",
    "# The monitoring device I'm using _always_ reads either 0.1 or 0.2 Wh / 15 minutes\n",
    "# , so only retain values above that amount\n",
    "one = one[one.apply(lambda x: x['value'] > 0.2, axis=1)]\n",
    "\n",
    "two = devices['Huis']['Electriciteit_opwek_garage']\n",
    "\n",
    "cm_low_in = devices['Huis']['Electriciteit_gebruik_laag']\n",
    "cm_high_in = devices['Huis']['Electriciteit_gebruik_hoog']\n",
    "\n",
    "cm_low_out = devices['Huis']['Electriciteit_teruglevering_laag']\n",
    "cm_high_out = devices['Huis']['Electriciteit_teruglevering_hoog']\n",
    "\n",
    "\n",
    "def merge(a, b):\n",
    "    c = pd.merge(a, b, left_index=True, right_index=True).sum(axis=1).to_frame()\n",
    "    return c.rename(columns={c.columns[0]: 'value' })\n",
    "\n",
    "prod = merge(one, two)\n",
    "usage = merge(cm_low_in, cm_high_in)\n",
    "feedback = merge(cm_low_out, cm_high_out)\n",
    "\n",
    "# Todo: derive from the dataset\n",
    "years = ['2018', '2019', '2020']\n",
    "\n",
    "sns.set(rc={'figure.figsize':(18, 6)})"
   ]
  },
  {
   "cell_type": "code",
   "execution_count": null,
   "metadata": {},
   "outputs": [],
   "source": [
    "# From https://stackoverflow.com/a/41259922\n",
    "def align_yaxis(ax1, ax2):\n",
    "    \"\"\"Align zeros of the two axes, zooming them out by same ratio\"\"\"\n",
    "    axes = (ax1, ax2)\n",
    "    extrema = [ax.get_ylim() for ax in axes]\n",
    "    tops = [extr[1] / (extr[1] - extr[0]) for extr in extrema]\n",
    "    # Ensure that plots (intervals) are ordered bottom to top:\n",
    "    if tops[0] > tops[1]:\n",
    "        axes, extrema, tops = [list(reversed(l)) for l in (axes, extrema, tops)]\n",
    "\n",
    "    # How much would the plot overflow if we kept current zoom levels?\n",
    "    tot_span = tops[1] + 1 - tops[0]\n",
    "\n",
    "    b_new_t = extrema[0][0] + tot_span * (extrema[0][1] - extrema[0][0])\n",
    "    t_new_b = extrema[1][1] - tot_span * (extrema[1][1] - extrema[1][0])\n",
    "    axes[0].set_ylim(extrema[0][0], b_new_t)\n",
    "    axes[1].set_ylim(t_new_b, extrema[1][1])\n",
    "\n",
    "def chart_timespan(begin, end, resample, label):\n",
    "    begin = begin.strftime('%Y-%m-%d')\n",
    "    end = end.strftime('%Y-%m-%d')\n",
    "    \n",
    "    df = usage[begin:end].index.to_frame().drop(['_from'], axis=1)\n",
    "    df['Productie'] = prod[begin:end]['value'].apply(lambda x: x*-1)\n",
    "    df['Consumptie'] = usage[begin:end]['value']\n",
    "    df['Teruglevering'] = feedback[begin:end]['value'].apply(lambda x: x*-1)\n",
    "    df = df.fillna(0)\n",
    "    df['Netto gebruik'] = df.apply(lambda r: r['Consumptie'] - ((r['Productie']) - r['Teruglevering']), axis=1)\n",
    "    \n",
    "    #rt = merge(usage, feedback)[begin:end].cumsum(axis=0).apply(lambda x: x / 1000)\n",
    "    rt = merge(df['Consumptie'], df['Teruglevering'])[begin:end].cumsum(axis=0).apply(lambda x: x / 1000)\n",
    "    \n",
    "    df = resample(df)\n",
    "    rt = resample(rt)\n",
    "\n",
    "    details = df.plot.area(stacked = False)\n",
    "    details.set_xlabel('Tijd van ' + begin + ' tot ' + end)\n",
    "    details.set_ylabel(label)\n",
    "    \n",
    "    running_total = rt['value'].plot(ax=details, style='r-', secondary_y=True, label='Running total')\n",
    "    running_total.set_ylabel('Running total in kWh')\n",
    "    running_total.legend(bbox_to_anchor=(0.12, 0.98))\n",
    "        \n",
    "    return align_yaxis(details, running_total)    "
   ]
  },
  {
   "cell_type": "code",
   "execution_count": null,
   "metadata": {},
   "outputs": [],
   "source": [
    "today = date.today()\n",
    "yesterday = today - timedelta(days=1)\n",
    "week = today - timedelta(days=7)\n",
    "month = today - timedelta(days=30)\n",
    "start_of_year = date(date.today().year, 1, 1)\n",
    "\n",
    "chart_timespan(yesterday, today, lambda df: df, 'Wh / 15 minuten')\n",
    "chart_timespan(yesterday, today, lambda df: df.resample('H').sum(), 'Wh')\n",
    "chart_timespan(week, today, lambda df: df.resample('H').sum(), 'Wh')\n",
    "chart_timespan(month, today, lambda df: df.resample('D').sum(), 'Wh')\n",
    "for year in years[1:]:\n",
    "    a = date(int(year), 1, 1)\n",
    "    b = date(int(year), 12, 31)\n",
    "    chart_timespan(a, b, lambda df: df.resample('W').sum().apply(lambda x: x / 1000), 'kWh / week')"
   ]
  },
  {
   "cell_type": "code",
   "execution_count": null,
   "metadata": {},
   "outputs": [],
   "source": [
    "def compare_years(source, years, x_axis = lambda d: d.index.dayofyear):\n",
    "    fig, ax = plt.subplots()\n",
    "    for year in years:\n",
    "        x = source.loc[year, 'value']\n",
    "        x = x.map(lambda x: x / 1000, na_action=None)\n",
    "        ax.plot(x_axis(x), x, marker='x', linestyle='-', linewidth=0.5, label='kWh')\n",
    "    ax.set_ylabel('kWh')\n",
    "    ax.legend()\n",
    "\n",
    "def compare_years_cumsum(source, years, xlabel):\n",
    "    fig, ax = plt.subplots()\n",
    "    source = source.fillna(0)\n",
    "    for year in years:\n",
    "        x = source.loc[year]\n",
    "        x = x.cumsum(axis=0)\n",
    "        x = x.map(lambda x: x / 1000, na_action=None)\n",
    "        lbl = year + ' end: ' + str(round(x.iloc[-1], 2)) + ' kWh'\n",
    "        ax.plot(x.index.dayofyear, x, marker='.', linestyle='-', linewidth=0.5, label=lbl)\n",
    "    ax.set_ylabel('kWh')\n",
    "    ax.set_xlabel(xlabel)\n",
    "    ax.legend()"
   ]
  },
  {
   "cell_type": "code",
   "execution_count": null,
   "metadata": {},
   "outputs": [],
   "source": [
    "compare_years_cumsum(one['value'], years, 'Huis')\n",
    "# The first 2 years there was no data anyways\n",
    "compare_years_cumsum(two['value'], years[2:], 'Garage')\n",
    "compare_years_cumsum(prod['value'], years, 'Beide')"
   ]
  },
  {
   "cell_type": "code",
   "execution_count": null,
   "metadata": {},
   "outputs": [],
   "source": [
    "def scatter_plot(df):\n",
    "    df['day'] = df.index.dayofyear\n",
    "    df['hour'] = df.index.hour\n",
    "    df = df[df.apply(lambda x: x['value'] > 10, axis=1)]\n",
    "    df.plot.scatter(x='day', y='hour', c='value', cmap='viridis')"
   ]
  },
  {
   "cell_type": "code",
   "execution_count": null,
   "metadata": {},
   "outputs": [],
   "source": [
    "scatter_plot(one)"
   ]
  },
  {
   "cell_type": "code",
   "execution_count": null,
   "metadata": {},
   "outputs": [],
   "source": [
    "scatter_plot(two)"
   ]
  },
  {
   "cell_type": "code",
   "execution_count": null,
   "metadata": {},
   "outputs": [],
   "source": [
    "scatter_plot(prod)"
   ]
  }
 ],
 "metadata": {
  "kernelspec": {
   "display_name": "Python 3",
   "language": "python",
   "name": "python3"
  },
  "language_info": {
   "codemirror_mode": {
    "name": "ipython",
    "version": 3
   },
   "file_extension": ".py",
   "mimetype": "text/x-python",
   "name": "python",
   "nbconvert_exporter": "python",
   "pygments_lexer": "ipython3",
   "version": "3.7.4"
  }
 },
 "nbformat": 4,
 "nbformat_minor": 2
}
