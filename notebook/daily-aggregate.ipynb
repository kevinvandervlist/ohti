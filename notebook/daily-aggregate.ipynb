{
 "cells": [
  {
   "cell_type": "code",
   "execution_count": null,
   "metadata": {},
   "outputs": [],
   "source": [
    "import numpy as np\n",
    "import pandas as pd\n",
    "import matplotlib.pyplot as plt\n",
    "import seaborn as sns"
   ]
  },
  {
   "cell_type": "code",
   "execution_count": null,
   "metadata": {},
   "outputs": [],
   "source": [
    "daily = pd.read_csv('daily-aggregate.csv')\n",
    "daily['date'] = pd.to_datetime(daily['name'], format=\"%Y-%m-%d\")\n",
    "daily = daily.set_index('date').asfreq('D')\n",
    "daily = daily.drop(columns=['from', 'to', 'name'])\n",
    "\n",
    "daily['Year'] = daily.index.year\n",
    "daily['Month'] = daily.index.month\n",
    "daily['Dag'] = daily.index.day_name()\n",
    "\n",
    "# Reorder columns for convenience\n",
    "daily = daily.reindex(columns=['Year', 'Month', 'Dag'] + daily.columns[:-3].tolist())\n",
    "\n",
    "# Define (dutch) names\n",
    "daily.columns = [\n",
    "    'Jaar',\n",
    "    'Maand',\n",
    "    'Weekdag',\n",
    "    'Gas',\n",
    "    'Teruglevering',\n",
    "    'Net_gebruik',\n",
    "    'Bruto_productie',\n",
    "    'Direct_gebruik_productie',\n",
    "    'Direct_gebruik_productie_pct',\n",
    "    'Eigen_gebruik_productie_pct',\n",
    "    'Totaal_gebruik',\n",
    "    'Terugleversaldo'\n",
    "]\n",
    "\n",
    "weekly_mean = daily.drop(columns=['Jaar', 'Maand']).resample('W').mean()\n",
    "monthly_mean = daily.drop(columns=['Jaar', 'Maand']).resample('M').mean()\n",
    "\n",
    "# Todo: derive from the dataset\n",
    "years = ['2018', '2019', '2020']"
   ]
  },
  {
   "cell_type": "code",
   "execution_count": null,
   "metadata": {},
   "outputs": [],
   "source": [
    "sns.set(rc={'figure.figsize':(18, 6)})\n",
    "\n",
    "def compare_years(source, column, years, unit = 'kWh', lbl = lambda y, d: y):\n",
    "    fig, ax = plt.subplots()\n",
    "    for year in years:\n",
    "        x = source.loc[year, column]\n",
    "        if unit == 'kWh':\n",
    "            x = x.map(lambda x: x / 1000, na_action=None)\n",
    "        ax.plot(x.index.dayofyear, x, marker='x', linestyle='-', linewidth=0.5, label=lbl(year, x))\n",
    "    ax.set_ylabel(column + ' ' + unit)\n",
    "    ax.legend()\n",
    "    \n",
    "def compare_years_terugleversaldo(source, years):\n",
    "    column = 'Terugleversaldo'\n",
    "    fig, ax = plt.subplots()\n",
    "    for year in years:\n",
    "        x = source.loc[year, column]\n",
    "        x = x.cumsum(axis=0).map(lambda x: x / 1000, na_action=None)\n",
    "        lbl = year + ' end: ' + str(round(x.iloc[-1], 2)) + ' kWh'\n",
    "        ax.plot(x.index.dayofyear, x, marker='x', linestyle='-', linewidth=0.5, label=lbl)\n",
    "    ax.set_ylabel(column + ' kWh')\n",
    "    ax.legend()\n",
    "    "
   ]
  },
  {
   "cell_type": "code",
   "execution_count": null,
   "metadata": {},
   "outputs": [],
   "source": [
    "# Views with daily granularity\n",
    "compare_years(daily, 'Gas', years, unit = 'm3', lbl = lambda y, d: y + ' (' + str(round(sum(d.fillna(0)), 2)) + ' m3)')\n",
    "\n",
    "power_lbl = lambda y, d: y + ' (' + str(round(sum(d.fillna(0)), 2)) + ' kWh)'\n",
    "compare_years(daily, 'Totaal_gebruik', years, lbl = power_lbl)\n",
    "compare_years(daily, 'Bruto_productie', years, lbl = power_lbl)\n",
    "compare_years(daily, 'Teruglevering', years, lbl = power_lbl)\n",
    "compare_years(daily, 'Net_gebruik', years, lbl = power_lbl)\n",
    "compare_years(daily, 'Eigen_gebruik_productie_pct', years, unit = '%')\n",
    "\n",
    "compare_years_terugleversaldo(daily, years)\n"
   ]
  },
  {
   "cell_type": "code",
   "execution_count": null,
   "metadata": {},
   "outputs": [],
   "source": [
    "# Weekly\n",
    "compare_years(weekly_mean, 'Gas', years, unit = 'm3')\n",
    "compare_years(weekly_mean, 'Totaal_gebruik', years)\n",
    "compare_years(weekly_mean, 'Bruto_productie', years)\n",
    "compare_years(weekly_mean, 'Teruglevering', years)\n",
    "compare_years(weekly_mean, 'Net_gebruik', years)\n",
    "compare_years(weekly_mean, 'Eigen_gebruik_productie_pct', years, unit = '%')"
   ]
  },
  {
   "cell_type": "code",
   "execution_count": null,
   "metadata": {},
   "outputs": [],
   "source": [
    "# Monthly\n",
    "compare_years(monthly_mean, 'Gas', years, unit = 'm3')\n",
    "compare_years(monthly_mean, 'Totaal_gebruik', years)\n",
    "compare_years(monthly_mean, 'Bruto_productie', years)\n",
    "compare_years(monthly_mean, 'Teruglevering', years)\n",
    "compare_years(monthly_mean, 'Net_gebruik', years)\n",
    "compare_years(monthly_mean, 'Eigen_gebruik_productie_pct', years, unit = '%')"
   ]
  },
  {
   "cell_type": "code",
   "execution_count": null,
   "metadata": {},
   "outputs": [],
   "source": [
    "gas = daily.filter(['Maand', 'Weekdag', 'Gas'])\n",
    "sns.boxplot(data=gas, x='Maand', y='Gas');"
   ]
  },
  {
   "cell_type": "code",
   "execution_count": null,
   "metadata": {},
   "outputs": [],
   "source": [
    "sns.boxplot(data=gas, x='Weekdag', y='Gas');"
   ]
  },
  {
   "cell_type": "code",
   "execution_count": null,
   "metadata": {},
   "outputs": [],
   "source": [
    "kwh = daily.filter(['Maand', 'Weekdag', 'Totaal_gebruik'])\n",
    "kwh['Totaal_gebruik'] = kwh['Totaal_gebruik'].map(lambda x: x / 1000, na_action=None)\n",
    "\n",
    "sns.boxplot(data=kwh, x='Maand', y='Totaal_gebruik');"
   ]
  },
  {
   "cell_type": "code",
   "execution_count": null,
   "metadata": {},
   "outputs": [],
   "source": [
    "kwh = daily.filter(['Maand', 'Weekdag', 'Totaal_gebruik'])\n",
    "kwh['Totaal_gebruik'] = kwh['Totaal_gebruik'].map(lambda x: x / 1000, na_action=None)\n",
    "\n",
    "sns.boxplot(data=kwh, x='Maand', y='Totaal_gebruik');"
   ]
  }
 ],
 "metadata": {
  "kernelspec": {
   "display_name": "Python 3",
   "language": "python",
   "name": "python3"
  },
  "language_info": {
   "codemirror_mode": {
    "name": "ipython",
    "version": 3
   },
   "file_extension": ".py",
   "mimetype": "text/x-python",
   "name": "python",
   "nbconvert_exporter": "python",
   "pygments_lexer": "ipython3",
   "version": "3.7.4"
  }
 },
 "nbformat": 4,
 "nbformat_minor": 2
}
