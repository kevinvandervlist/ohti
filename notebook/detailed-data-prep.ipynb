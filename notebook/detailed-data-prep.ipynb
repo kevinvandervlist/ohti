{
 "cells": [
  {
   "cell_type": "code",
   "execution_count": null,
   "metadata": {},
   "outputs": [],
   "source": [
    "import pandas as pd\n",
    "import json\n",
    "import pickle"
   ]
  },
  {
   "cell_type": "code",
   "execution_count": null,
   "metadata": {},
   "outputs": [],
   "source": [
    "raw_data = pd.read_csv('detailed-data.csv')\n",
    "# To see all the (unique) devices + data streams:\n",
    "# raw_data.drop(columns=['from', 'to', 'value']).drop_duplicates()\n",
    "# device_identifiers = {\n",
    "#     \"Huis\": {\n",
    "#         \"Ventilatie_snelheid\": (\"uuid_a\", \"FanSpeedPercentage\", \"FanSpeed\"),\n",
    "#         \"Ventilatie_ppm_co2\": (\"uuid_b\", \"PartsPerMillion\", \"CO2\"),\n",
    "#         \"Gas_gebruik\": (\"uuid_c\", \"CentralMeterGasUsage\", \"m3\"),\n",
    "#         \"Electriciteit_gebruik_hoog\": (\"uuid_d\", \"ElectricityUsage\", \"Wh\"),\n",
    "#         \"Electriciteit_gebruik_laag\": (\"uuid_e\", \"ElectricityUsage\", \"Wh\"),\n",
    "#         \"Electriciteit_teruglevering_hoog\": (\"uuid_f\", \"ElectricityProduction\", \"Wh\"),\n",
    "#         \"Electriciteit_teruglevering_laag\": (\"uuid_g\", \"ElectricityProduction\", \"Wh\"),\n",
    "#     },\n",
    "#     \"Bar\": {\n",
    "#         \"Temperatuur_gemeten\": (\"uuid_a\", \"ActualTemperatureCelcius\", \"c\"),\n",
    "#         \"Temperatuur_ingesteld\": (\"uuid_b\", \"ConfiguredTemperatureCelcius\", \"c\"),\n",
    "#     },\n",
    "# }\n",
    "# kamers = ['Foo', 'Bar']\n",
    "\n",
    "# _kamers = open(\"kamers\", \"w\")\n",
    "# _kamers.write(json.dumps(kamers))\n",
    "# _kamers.close()\n",
    "\n",
    "# _device_identifiers = open(\"device_identifiers\", \"w\")\n",
    "# _device_identifiers.write(json.dumps(device_identifiers))\n",
    "# _device_identifiers.close()"
   ]
  },
  {
   "cell_type": "code",
   "execution_count": null,
   "metadata": {},
   "outputs": [],
   "source": [
    "_device_identifiers = open(\"device_identifiers.json\", \"r\")\n",
    "device_identifiers = json.loads(_device_identifiers.read())\n",
    "_device_identifiers.close()"
   ]
  },
  {
   "cell_type": "code",
   "execution_count": null,
   "metadata": {},
   "outputs": [],
   "source": [
    "raw_data['_from'] = raw_data['from'].apply(lambda ts: pd.datetime.fromtimestamp(ts / 1000))\n",
    "raw_data['_to'] = raw_data['to'].apply(lambda ts: pd.datetime.fromtimestamp(ts / 1000))"
   ]
  },
  {
   "cell_type": "code",
   "execution_count": null,
   "metadata": {},
   "outputs": [],
   "source": [
    "devices = device_identifiers\n",
    "\n",
    "for section, measurements in devices.items():\n",
    "    for name, (uuid, c, u) in measurements.items():\n",
    "        df = raw_data\n",
    "        df = df[df['uuid'] == uuid]\n",
    "        df = df[df['category'] == c]\n",
    "        df = df[df['unit'] == u]\n",
    "        df = df.set_index('_from')\n",
    "        #print(df[df.index.duplicated()])\n",
    "        #print(df[df.index == '2018-10-28 02:00:00']['value'])\n",
    "        #df.drop_duplicates(subset=None, keep='first', inplace=True)\n",
    "        #df = df.asfreq('15T')\n",
    "        df = df.drop(columns=['from', 'to', 'uuid'])\n",
    "        devices[section][name] = df"
   ]
  },
  {
   "cell_type": "code",
   "execution_count": null,
   "metadata": {},
   "outputs": [],
   "source": [
    "_devices = open(\"devices.p\", \"wb\")\n",
    "pickle.dump(devices, _devices)\n",
    "_devices.close()"
   ]
  }
 ],
 "metadata": {
  "kernelspec": {
   "display_name": "Python 3",
   "language": "python",
   "name": "python3"
  },
  "language_info": {
   "codemirror_mode": {
    "name": "ipython",
    "version": 3
   },
   "file_extension": ".py",
   "mimetype": "text/x-python",
   "name": "python",
   "nbconvert_exporter": "python",
   "pygments_lexer": "ipython3",
   "version": "3.7.4"
  }
 },
 "nbformat": 4,
 "nbformat_minor": 2
}
