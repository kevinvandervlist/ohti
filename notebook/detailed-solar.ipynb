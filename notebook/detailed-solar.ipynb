{
 "cells": [
  {
   "cell_type": "code",
   "execution_count": null,
   "metadata": {},
   "outputs": [],
   "source": [
    "import numpy as np\n",
    "import pandas as pd\n",
    "import matplotlib.pyplot as plt\n",
    "import matplotlib.dates as mdates\n",
    "import seaborn as sns\n",
    "import json\n",
    "import pickle\n",
    "from datetime import date, timedelta"
   ]
  },
  {
   "cell_type": "code",
   "execution_count": null,
   "metadata": {},
   "outputs": [],
   "source": [
    "_kamers = open(\"kamers.json\", \"r\")\n",
    "kamers = json.loads(_kamers.read())\n",
    "_kamers.close()\n",
    "\n",
    "_devices = open(\"devices.p\", \"rb\")\n",
    "devices = pickle.load(_devices)\n",
    "_devices.close()"
   ]
  },
  {
   "cell_type": "code",
   "execution_count": null,
   "metadata": {},
   "outputs": [],
   "source": [
    "one = devices['Huis']['Electriciteit_opwek_dak']\n",
    "# The monitoring device I'm using _always_ reads either 0.1 or 0.2 Wh / 15 minutes\n",
    "# , so only retain values above that amount\n",
    "one = one[one.apply(lambda x: x['value'] > 0.2, axis=1)]\n",
    "\n",
    "two = devices['Huis']['Electriciteit_opwek_garage']\n",
    "\n",
    "both = pd.merge(one, two, left_index=True, right_index=True).sum(axis=1).to_frame()\n",
    "both.rename(columns={both.columns[0]: 'value' }, inplace = True)\n",
    "\n",
    "# Todo: derive from the dataset\n",
    "years = ['2018', '2019', '2020']\n",
    "\n",
    "sns.set(rc={'figure.figsize':(18, 6)})"
   ]
  },
  {
   "cell_type": "code",
   "execution_count": null,
   "metadata": {},
   "outputs": [],
   "source": [
    "def chart_timespan(when):\n",
    "    when = when.strftime('%Y-%m-%d')\n",
    "    \n",
    "    df = one[when].index.to_frame().drop(['_from'], axis=1)\n",
    "    df['Huis'] = one[when]['value']\n",
    "    df['Garage'] = two[when]['value']\n",
    "    df['Beide'] = both[when]['value']\n",
    "\n",
    "    q = df.plot.area(stacked = False)\n",
    "    q.set_xlabel('Tijd op ' + when)\n",
    "    q.set_ylabel('Wh / 15 minuten')\n",
    "\n",
    "    df = df.resample('H').sum()\n",
    "    h = df.plot.area(stacked = False)\n",
    "    h.set_xlabel('Tijd op ' + when)\n",
    "    h.set_ylabel('Wh')\n",
    "\n",
    "    return (q, h)"
   ]
  },
  {
   "cell_type": "code",
   "execution_count": null,
   "metadata": {},
   "outputs": [],
   "source": [
    "today = date.today()\n",
    "for i in range(0, 7):\n",
    "    d = today - timedelta(days=(i + 1))\n",
    "    chart_timespan(d)"
   ]
  },
  {
   "cell_type": "code",
   "execution_count": null,
   "metadata": {},
   "outputs": [],
   "source": [
    "def compare_years(source, years, x_axis = lambda d: d.index.dayofyear):\n",
    "    fig, ax = plt.subplots()\n",
    "    for year in years:\n",
    "        x = source.loc[year, 'value']\n",
    "        x = x.map(lambda x: x / 1000, na_action=None)\n",
    "        ax.plot(x_axis(x), x, marker='x', linestyle='-', linewidth=0.5, label='kWh')\n",
    "    ax.set_ylabel('kWh')\n",
    "    ax.legend()\n",
    "\n",
    "def compare_years_cumsum(source, years, xlabel):\n",
    "    fig, ax = plt.subplots()\n",
    "    source = source.fillna(0)\n",
    "    for year in years:\n",
    "        x = source.loc[year]\n",
    "        x = x.cumsum(axis=0)\n",
    "        x = x.map(lambda x: x / 1000, na_action=None)\n",
    "        lbl = year + ' end: ' + str(round(x.iloc[-1], 2)) + ' kWh'\n",
    "        ax.plot(x.index.dayofyear, x, marker='.', linestyle='-', linewidth=0.5, label=lbl)\n",
    "    ax.set_ylabel('kWh')\n",
    "    ax.set_xlabel(xlabel)\n",
    "    ax.legend()"
   ]
  },
  {
   "cell_type": "code",
   "execution_count": null,
   "metadata": {},
   "outputs": [],
   "source": [
    "compare_years_cumsum(one['value'], years, 'Huis')\n",
    "# The first 2 years there was no data anyways\n",
    "compare_years_cumsum(two['value'], years[2:], 'Garage')\n",
    "compare_years_cumsum(both['value'], years, 'Beide')"
   ]
  },
  {
   "cell_type": "code",
   "execution_count": null,
   "metadata": {},
   "outputs": [],
   "source": [
    "def scatter_plot(df):\n",
    "    df['day'] = df.index.dayofyear\n",
    "    df['hour'] = df.index.hour\n",
    "    df = df[df.apply(lambda x: x['value'] > 10, axis=1)]\n",
    "    df.plot.scatter(x='day', y='hour', c='value', cmap='viridis')"
   ]
  },
  {
   "cell_type": "code",
   "execution_count": null,
   "metadata": {},
   "outputs": [],
   "source": [
    "scatter_plot(one)"
   ]
  },
  {
   "cell_type": "code",
   "execution_count": null,
   "metadata": {},
   "outputs": [],
   "source": [
    "scatter_plot(two)"
   ]
  },
  {
   "cell_type": "code",
   "execution_count": null,
   "metadata": {},
   "outputs": [],
   "source": [
    "scatter_plot(both)"
   ]
  }
 ],
 "metadata": {
  "kernelspec": {
   "display_name": "Python 3",
   "language": "python",
   "name": "python3"
  },
  "language_info": {
   "codemirror_mode": {
    "name": "ipython",
    "version": 3
   },
   "file_extension": ".py",
   "mimetype": "text/x-python",
   "name": "python",
   "nbconvert_exporter": "python",
   "pygments_lexer": "ipython3",
   "version": "3.7.4"
  }
 },
 "nbformat": 4,
 "nbformat_minor": 2
}
